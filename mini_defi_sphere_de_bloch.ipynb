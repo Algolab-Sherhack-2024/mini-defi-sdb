{
 "cells": [
  {
   "cell_type": "code",
   "execution_count": null,
   "metadata": {},
   "outputs": [],
   "source": [
    "# Pour rouler dans Google Colab, executez cette cellule en premier\n",
    "\n",
    "!git clone https://github.com/Algolab-Sherhack-2024/mini-defi-sdb.git\n",
    "import sys\n",
    "sys.path.insert(0,'/content/sherhack_2024')\n",
    "!pip install -r sherhack_2024/requirements.txt"
   ]
  },
  {
   "cell_type": "markdown",
   "metadata": {},
   "source": [
    "# La Sphère de Bloch"
   ]
  },
  {
   "cell_type": "markdown",
   "metadata": {},
   "source": [
    "## Qu'est-ce que la sphère de Bloch\n",
    "\n",
    "La sphère de Bloch est une représentation géométrique de l'état quantique d'un qubit.\n",
    "\n",
    "Par exemple, imaginons qu'un qubit se trouve dans l'état $|0\\rangle$, son état quantique complet dans la base computationnelle s'écrit $| \\psi \\rangle = 1|0\\rangle + 0|0\\rangle$ ou de façon plus compacte $| \\psi \\rangle = [1, 0]^\\top$.\n",
    "\n",
    "Faites rouler les prochaines cellules pour voir la représentation de cet état sur la sphère de Bloch."
   ]
  },
  {
   "cell_type": "code",
   "execution_count": 1,
   "metadata": {},
   "outputs": [],
   "source": [
    "from sphere_de_bloch_utils import *"
   ]
  },
  {
   "cell_type": "code",
   "execution_count": null,
   "metadata": {},
   "outputs": [],
   "source": [
    "# EXEMPLE: Dessiner la sphère de Bloch et les états quantiques\n",
    "\n",
    "# Création de la figure contenant la sphère de Bloch\n",
    "Bsphere = plot_Bloch_sphere()\n",
    "\n",
    "# Téléchargement du dictionnaire avec les différents états quantiques de départ\n",
    "qstate_dic = get_qstates_dict()\n",
    "\n",
    "# Sélection d'un état quantique de départ dans le dictionnaire\n",
    "qstate = qstate_dic[\"0\"]\n",
    "\n",
    "# Dessiner la représentation de l'état quantique sur la sphère de Bloch\n",
    "color = \"blue\"\n",
    "plot_vect(Bsphere, qstate, color=color)\n",
    "\n",
    "# Création de la fenêtre intéractive contenant la sphère de Bloch\n",
    "Bsphere.show()"
   ]
  },
  {
   "cell_type": "markdown",
   "metadata": {},
   "source": [
    "Dans le dictionnaire <code> qstate_dic </code>, vous trouverz des états quantiques remarquables et leur représentation vectorielle dans la base computationnelle."
   ]
  },
  {
   "cell_type": "markdown",
   "metadata": {},
   "source": [
    "Nous vous invitons à vous familiariser avec les différents états quantiques du dictionnaire."
   ]
  },
  {
   "cell_type": "markdown",
   "metadata": {},
   "source": [
    "## Les portes quantiques à un qubit\n",
    "\n",
    "Une porte quantique applique une transformation à un état quantique donné en entrée.\n",
    "\n",
    "Dans le cas d'une transformation sur un qubit, l'effet d'une porte quantique est équivalent à la rotation du vecteur de Bloch représentant l'état quantique de ce même qubit, dans la sphère de Bloch.\n",
    "\n",
    "Les portes disponibles sont les suivantes:\n",
    "*  [<code> XGate </code>](https://docs.quantum.ibm.com/api/qiskit/qiskit.circuit.library.XGate)\n",
    "* [<code> YGate </code>](https://docs.quantum.ibm.com/api/qiskit/qiskit.circuit.library.YGate)\n",
    "* [<code> ZGate </code>](https://docs.quantum.ibm.com/api/qiskit/qiskit.circuit.library.ZGate)\n",
    "* [<code> HGate </code>](https://docs.quantum.ibm.com/api/qiskit/qiskit.circuit.library.HGate)\n",
    "* [<code> SGate </code>](https://docs.quantum.ibm.com/api/qiskit/qiskit.circuit.library.SGate)\n",
    "* [<code> TGate </code>](https://docs.quantum.ibm.com/api/qiskit/qiskit.circuit.library.TGate)\n",
    "* [<code> RXGate </code>](https://docs.quantum.ibm.com/api/qiskit/qiskit.circuit.library.RXGate)\n",
    "* [<code> RYGate </code>](https://docs.quantum.ibm.com/api/qiskit/qiskit.circuit.library.RYGate)\n",
    "* [<code> RZGate </code>](https://docs.quantum.ibm.com/api/qiskit/qiskit.circuit.library.RZGate)\n",
    "\n",
    "Dans ce notebook, vous êtes invités à observer l'effet de ces portes quantiques à travers la représentation de la sphère de Bloch et à vous construire une intuition sur leur action."
   ]
  },
  {
   "cell_type": "code",
   "execution_count": null,
   "metadata": {},
   "outputs": [],
   "source": [
    "# EXEMPLE: Appliquer des portes quantiques et dessiner la trace de l'action de ces dernières\n",
    "\n",
    "qstate = HGate(Bsphere, qstate, color=color)\n",
    "\n",
    "Bsphere.show()"
   ]
  },
  {
   "cell_type": "markdown",
   "metadata": {},
   "source": [
    "## Le Défi : Sur les traces des portes quantiques"
   ]
  },
  {
   "cell_type": "markdown",
   "metadata": {},
   "source": [
    "Le défi est le suivant:\n",
    "\n",
    "Le dictionnaire <code>exercices</code> que vous trouverez plus bas, contient 7 sphères de Bloch avec une trajectoire en rouge qui a été construite en appliquant une suite de portes quantiques sur un état initial.\n",
    "\n",
    "Votre mission est de trouver la séquence de portes et d'afficher la trace correspondante qui permet de reproduire celle de chaque exercice."
   ]
  },
  {
   "cell_type": "code",
   "execution_count": null,
   "metadata": {},
   "outputs": [],
   "source": [
    "# TUTORIEL\n",
    "\n",
    "exercices = load_exercices()\n",
    "example = exercices[\"0\"]\n",
    "\n",
    "# EXAMPLE: Dessiner des traces sur la sphère d'un exercice\n",
    "color = \"blue\"\n",
    "qstate = qstate_dic[\"0\"]\n",
    "plot_vect(example, qstate, color=color)\n",
    "\n",
    "# On va tracer l'action de deux portes consécutives: X et RY(theta=pi/3)\n",
    "qstate = XGate(example, qstate, color=color)\n",
    "qstate = RYGate(example, np.pi / 3, qstate, color=color)\n",
    "\n",
    "example.show()"
   ]
  },
  {
   "cell_type": "markdown",
   "metadata": {},
   "source": [
    "### Astuces\n",
    "Dans la fenêtre intéractive, vous pouvez voir une légende qui s'affiche à droite.\n",
    "\n",
    "Vous pouvez cliquer sur les différentes étiquettes pour faire apparaître et disparaître les structures légendées.\n",
    "\n",
    "Par exemple, il est possible de décomposer le tracé d'un exercice en cliquant sur les différentes légendes étiquettées \"Exercice\" et obtenir un peu d'information sur l'action de la porte qui a été utilisée!"
   ]
  },
  {
   "cell_type": "code",
   "execution_count": null,
   "metadata": {},
   "outputs": [],
   "source": [
    "\"\"\"\n",
    "La fonction clear(exercice) efface toutes les traces qui ne sont pas celles de l'exercices\n",
    "\"\"\"\n",
    "\n",
    "clear(example)\n",
    "example.show()"
   ]
  },
  {
   "cell_type": "markdown",
   "metadata": {},
   "source": [
    "**Indices**:\n",
    "\n",
    "Les exercices de 0 à 3 n'utilisent pas les portes RX, RY et RZ.\n",
    "\n",
    "Les exercices de 4 à 6 utilisent les portes RX, RY et RZ en plus des autres portes disponibles.\n",
    "\n",
    "Les angles utilisés sont des multiples de $\\frac{\\pi}{2}, \\frac{\\pi}{3}, \\frac{\\pi}{4}, \\frac{\\pi}{8}$."
   ]
  },
  {
   "cell_type": "code",
   "execution_count": 6,
   "metadata": {},
   "outputs": [],
   "source": [
    "# À vous de jouer..."
   ]
  }
 ],
 "metadata": {
  "kernelspec": {
   "display_name": "hackathon",
   "language": "python",
   "name": "python3"
  },
  "language_info": {
   "codemirror_mode": {
    "name": "ipython",
    "version": 3
   },
   "file_extension": ".py",
   "mimetype": "text/x-python",
   "name": "python",
   "nbconvert_exporter": "python",
   "pygments_lexer": "ipython3",
   "version": "3.12.5"
  }
 },
 "nbformat": 4,
 "nbformat_minor": 2
}
